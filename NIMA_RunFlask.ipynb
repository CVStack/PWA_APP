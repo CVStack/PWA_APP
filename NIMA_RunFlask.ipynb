{
  "nbformat": 4,
  "nbformat_minor": 0,
  "metadata": {
    "accelerator": "GPU",
    "colab": {
      "name": "NIMA.ipynb",
      "provenance": [],
      "collapsed_sections": []
    },
    "kernelspec": {
      "display_name": "Python 3",
      "name": "python3"
    }
  },
  "cells": [
    {
      "cell_type": "code",
      "metadata": {
        "id": "C1PlhYR8A3dJ"
      },
      "source": [
        "#clone repository\r\n",
        "\r\n",
        "!git clone -b AI_2 https://github.com/SWhack-PhotoWithAI/PWA_APP.git\r\n",
        "%cd PWA_APP/\r\n",
        "\r\n",
        "!pip install flask-ngrok\r\n",
        "!pip install -r NIMA/requirement.txt"
      ],
      "execution_count": null,
      "outputs": []
    },
    {
      "cell_type": "code",
      "metadata": {
        "id": "6xz9r-qppgfK"
      },
      "source": [
        "#run Flask WebServer\r\n",
        "\r\n",
        "from NIMA.evaluate_NIMA import evaluate\r\n",
        "\r\n",
        "#Flask \r\n",
        "\r\n",
        "from flask_ngrok import run_with_ngrok\r\n",
        "# from flask import Flask\r\n",
        "from flask import Flask, render_template, request, jsonify\r\n",
        "from werkzeug.utils import secure_filename\r\n",
        "\r\n",
        "import json\r\n",
        "import os\r\n",
        "\r\n",
        "if 'images' not in os.listdir():\r\n",
        "  os.mkdir('images')\r\n",
        "\r\n",
        "app = Flask(__name__)\r\n",
        "run_with_ngrok(app)   #starts ngrok when the app is run\r\n",
        "\r\n",
        "@app.route('/predict', methods = ['POST'])\r\n",
        "def predict(): #image 파일은 post형식으로 넘어오기 때문에\r\n",
        "    #제일 score값이 좋은 image name을 return 하면 될듯.\r\n",
        "    img_paths = []\r\n",
        "    img_dir = 'images/'\r\n",
        "\r\n",
        "\r\n",
        "    files = request.files.getlist('image') #이미지 여러개 받아오도록 해야함\r\n",
        "    \r\n",
        "    for file in files:\r\n",
        "        file.save(img_dir + secure_filename(file.filename))\r\n",
        "    \r\n",
        "    result = evaluate()\r\n",
        "    return result\r\n",
        "\r\n",
        "@app.route(\"/\")\r\n",
        "def home():\r\n",
        "    return \"<h1>Running Flask on Google Colab!</h1>\"\r\n",
        "  \r\n",
        "app.run()"
      ],
      "execution_count": null,
      "outputs": []
    }
  ]
}