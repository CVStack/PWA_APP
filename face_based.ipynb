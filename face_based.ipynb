{
  "nbformat": 4,
  "nbformat_minor": 0,
  "metadata": {
    "colab": {
      "name": "face_based.ipynb",
      "provenance": [],
      "collapsed_sections": []
    },
    "kernelspec": {
      "name": "python3",
      "display_name": "Python 3"
    },
    "accelerator": "GPU"
  },
  "cells": [
    {
      "cell_type": "code",
      "metadata": {
        "colab": {
          "base_uri": "https://localhost:8080/"
        },
        "id": "hTJtaJHd5a2A",
        "outputId": "e5c52ffe-ed77-4cab-b19e-1fee2b3b136a"
      },
      "source": [
        "import torch\r\n",
        "import torchvision\r\n",
        "from torchvision import models\r\n",
        "import torchvision.transforms as T\r\n",
        "\r\n",
        "import numpy as np\r\n",
        "from PIL import Image\r\n",
        "import matplotlib.pyplot as plt\r\n",
        "from matplotlib.path import Path\r\n",
        "import matplotlib.patches as patches\r\n",
        "\r\n",
        "\r\n",
        "#이미지 사이즈 및 임계값 설정\r\n",
        "\r\n",
        "THRESHOLD = 0.95\r\n",
        "\r\n",
        "#model불러오기\r\n",
        "model = models.detection.keypointrcnn_resnet50_fpn(pretrained=True).eval()\r\n",
        "\r\n",
        "#예시(여기가 카메라-> frame (이미지) 로드 해서 동작)\r\n",
        "img = Image.open('./ho.jpg')\r\n",
        "\r\n",
        "\r\n",
        "\r\n",
        "#텐서로 변환\r\n",
        "trf = T.Compose([\r\n",
        "    T.ToTensor()\r\n",
        "])\r\n",
        "\r\n",
        "input_img = trf(img)\r\n",
        "out = model([input_img])[0]\r\n",
        "\r\n",
        "#사진의 최종 점수\r\n",
        "img_score = 0\r\n",
        "\r\n",
        "\r\n",
        "for box, score, keypoints,keypoints_scores in zip(out['boxes'], out['scores'], out['keypoints'],out['keypoints_scores']):\r\n",
        "    score = score.detach().numpy()\r\n",
        "    \r\n",
        "    if score < THRESHOLD:\r\n",
        "        continue\r\n",
        "    \r\n",
        "    keypoints_scores  = keypoints_scores.detach().numpy()\r\n",
        "    #print(keypoints_scores)\r\n",
        "    for i in range(len(keypoints_scores)):\r\n",
        "      img_score += keypoints_scores[i]\r\n",
        "\r\n",
        "print(\"img_score : \",img_score)\r\n",
        "    "
      ],
      "execution_count": 14,
      "outputs": [
        {
          "output_type": "stream",
          "text": [
            "img_score :  174.08273136615753\n"
          ],
          "name": "stdout"
        }
      ]
    },
    {
      "cell_type": "code",
      "metadata": {
        "id": "7sIVIUE16sPr"
      },
      "source": [
        ""
      ],
      "execution_count": null,
      "outputs": []
    }
  ]
}