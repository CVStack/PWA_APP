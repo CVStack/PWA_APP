{
  "nbformat": 4,
  "nbformat_minor": 0,
  "metadata": {
    "accelerator": "GPU",
    "colab": {
      "name": "NIMA.ipynb",
      "provenance": [],
      "collapsed_sections": []
    },
    "kernelspec": {
      "display_name": "Python 3",
      "name": "python3"
    }
  },
  "cells": [
    {
      "cell_type": "code",
      "metadata": {
        "id": "C1PlhYR8A3dJ"
      },
      "source": [
        "#clone repository\r\n",
        "\r\n",
        "!git clone -b AI_2 https://github.com/SWhack-PhotoWithAI/PWA_APP.git\r\n",
        "%cd PWA_APP/\r\n",
        "\r\n",
        "!pip install flask-ngrok\r\n",
        "!pip install -r NIMA/requirement.txt"
      ],
      "execution_count": null,
      "outputs": []
    },
    {
      "cell_type": "code",
      "metadata": {
        "colab": {
          "base_uri": "https://localhost:8080/"
        },
        "id": "6xz9r-qppgfK",
        "outputId": "05236a3b-6736-4ec9-cec4-ffa9f8a45d75"
      },
      "source": [
        "#run Flask WebServer\r\n",
        "\r\n",
        "#Vision Module\r\n",
        "from NIMA.evaluate_NIMA import evaluate\r\n",
        "from Human.face_based import main\r\n",
        "#Flask \r\n",
        "\r\n",
        "from flask_ngrok import run_with_ngrok\r\n",
        "# from flask import Flask\r\n",
        "from flask import Flask, render_template, request, jsonify\r\n",
        "from werkzeug.utils import secure_filename\r\n",
        "\r\n",
        "import json\r\n",
        "import os\r\n",
        "\r\n",
        "if 'images' not in os.listdir():\r\n",
        "  os.mkdir('images')\r\n",
        "\r\n",
        "app = Flask(__name__)\r\n",
        "run_with_ngrok(app)   #starts ngrok when the app is run\r\n",
        "\r\n",
        "@app.route('/predict_background', methods = ['POST'])\r\n",
        "def predict_background(): #image 파일은 post형식으로 넘어오기 때문에\r\n",
        "    #제일 score값이 좋은 image name을 return 하면 될듯.\r\n",
        "    img_dir = 'images/'\r\n",
        "    files = request.files.getlist('image') #이미지 여러개 받아오도록 해야함\r\n",
        "    order_dict = {}\r\n",
        "    index = 0\r\n",
        "    for file in files:\r\n",
        "        img_path = img_dir + secure_filename(file.filename)\r\n",
        "        order_dict[img_path] = index\r\n",
        "        index += 1 \r\n",
        "        file.save(img_path)\r\n",
        "    \r\n",
        "    result = evaluate()\r\n",
        "    result_index = order_dict[result['name']]\r\n",
        "\r\n",
        "    _dict = {}\r\n",
        "    _dict['index'] = result_index\r\n",
        "    return _dict\r\n",
        "\r\n",
        "@app.route('/predict_person', methods = ['POST'])\r\n",
        "def predict_person():\r\n",
        "    img_dir = 'images/'\r\n",
        "    files = request.files.getlist('image') #이미지 여러개 받아오도록 해야함\r\n",
        "    \r\n",
        "    order_dict = {}\r\n",
        "    index = 0\r\n",
        "    for file in files:\r\n",
        "        img_path = img_dir + secure_filename(file.filename)\r\n",
        "        order_dict[img_path] = index\r\n",
        "        index += 1\r\n",
        "        file.save(img_dir + secure_filename(file.filename))\r\n",
        "\r\n",
        "    result = main()\r\n",
        "    best_img = ''\r\n",
        "    max_score = -1\r\n",
        "    for img_name, score in result.items():\r\n",
        "        if score > max_score:\r\n",
        "            best_img = img_name\r\n",
        "\r\n",
        "    result_index = order_dict[best_img]\r\n",
        "\r\n",
        "    _dict = {}\r\n",
        "    _dict['index'] = result_index\r\n",
        "    return _dict\r\n",
        "\r\n",
        "@app.route(\"/\")\r\n",
        "def home():\r\n",
        "    return \"<h1>Running Flask on Google Colab!</h1>\"\r\n",
        "  \r\n",
        "app.run()"
      ],
      "execution_count": 2,
      "outputs": [
        {
          "output_type": "stream",
          "text": [
            " * Serving Flask app \"__main__\" (lazy loading)\n",
            " * Environment: production\n",
            "\u001b[31m   WARNING: This is a development server. Do not use it in a production deployment.\u001b[0m\n",
            "\u001b[2m   Use a production WSGI server instead.\u001b[0m\n",
            " * Debug mode: off\n"
          ],
          "name": "stdout"
        },
        {
          "output_type": "stream",
          "text": [
            " * Running on http://127.0.0.1:5000/ (Press CTRL+C to quit)\n"
          ],
          "name": "stderr"
        },
        {
          "output_type": "stream",
          "text": [
            " * Running on http://00deb3958743.ngrok.io\n",
            " * Traffic stats available on http://127.0.0.1:4040\n",
            "Loading images from directory :  images/\n",
            "img_path : images/person.jpg\n",
            "removed image : images/person.jpg\n",
            "img_score :  117.25374174118042\n",
            "img_path : images/person2.jpg\n"
          ],
          "name": "stdout"
        },
        {
          "output_type": "stream",
          "text": [
            "127.0.0.1 - - [05/Feb/2021 20:13:51] \"\u001b[37mPOST /predict_person HTTP/1.1\u001b[0m\" 200 -\n"
          ],
          "name": "stderr"
        },
        {
          "output_type": "stream",
          "text": [
            "removed image : images/person2.jpg\n",
            "img_score :  177.6340063214302\n",
            "Loading images from directory :  images/\n",
            "img_path : images/person.jpg\n"
          ],
          "name": "stdout"
        },
        {
          "output_type": "stream",
          "text": [
            "127.0.0.1 - - [05/Feb/2021 20:14:11] \"\u001b[37mPOST /predict_person HTTP/1.1\u001b[0m\" 200 -\n"
          ],
          "name": "stderr"
        },
        {
          "output_type": "stream",
          "text": [
            "removed image : images/person.jpg\n",
            "img_score :  117.25374174118042\n"
          ],
          "name": "stdout"
        }
      ]
    },
    {
      "cell_type": "code",
      "metadata": {
        "colab": {
          "base_uri": "https://localhost:8080/"
        },
        "id": "zAiPz9jhZVge",
        "outputId": "e925b7ed-ce5f-4bbf-b8b7-51dbcb797a25"
      },
      "source": [
        ""
      ],
      "execution_count": 5,
      "outputs": [
        {
          "output_type": "stream",
          "text": [
            "From https://github.com/SWhack-PhotoWithAI/PWA_APP\n",
            " * branch            AI_2       -> FETCH_HEAD\n",
            "Already up to date.\n"
          ],
          "name": "stdout"
        }
      ]
    }
  ]
}