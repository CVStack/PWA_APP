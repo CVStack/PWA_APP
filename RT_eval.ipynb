{
  "nbformat": 4,
  "nbformat_minor": 0,
  "metadata": {
    "colab": {
      "name": "RT_eval.ipynb",
      "provenance": [],
      "collapsed_sections": [],
      "authorship_tag": "ABX9TyMt8tJwkAHzExjVYVGpEL7s",
      "include_colab_link": true
    },
    "kernelspec": {
      "name": "python3",
      "display_name": "Python 3"
    },
    "accelerator": "GPU"
  },
  "cells": [
    {
      "cell_type": "markdown",
      "metadata": {
        "id": "view-in-github",
        "colab_type": "text"
      },
      "source": [
        "<a href=\"https://colab.research.google.com/github/JaewonLee0217/PWA_APP/blob/AI_1/RT_eval.ipynb\" target=\"_parent\"><img src=\"https://colab.research.google.com/assets/colab-badge.svg\" alt=\"Open In Colab\"/></a>"
      ]
    },
    {
      "cell_type": "code",
      "metadata": {
        "id": "4TVn-BKJhgXx"
      },
      "source": [
        "import torch\r\n",
        "import torchvision\r\n",
        "from torchvision import models\r\n",
        "import torchvision.transforms as T\r\n",
        "\r\n",
        "import numpy as np\r\n",
        "from PIL import Image\r\n",
        "import matplotlib.pyplot as plt\r\n",
        "from matplotlib.path import Path\r\n",
        "import matplotlib.patches as patches\r\n",
        "\r\n",
        "import glob\r\n",
        "import os\r\n",
        "\r\n",
        "\r\n",
        "def get_image_list(image_dir):\r\n",
        "    if image_dir is not None:\r\n",
        "        print(\"Loading images from directory : \", image_dir)\r\n",
        "        images = glob.glob(image_dir + '/*.png')\r\n",
        "        images += glob.glob(image_dir + '/*.jpg')\r\n",
        "        images += glob.glob(image_dir + '/*.jpeg')\r\n",
        "\r\n",
        "    else:\r\n",
        "        raise RuntimeError('Either -img_dir arguments must be passed as argument')\r\n",
        "\r\n",
        "    return images\r\n",
        "\r\n",
        "\r\n",
        "def main():\r\n",
        "  #이미지 사이즈 및 임계값 설정\r\n",
        "\r\n",
        "  THRESHOLD = 0.95\r\n",
        "\r\n",
        "  #model불러오기\r\n",
        "  model = models.detection.keypointrcnn_resnet50_fpn(pretrained=True).eval()\r\n",
        "\r\n",
        "  #예시(여기가 카메라-> frame (이미지) 로드 해서 동작)\r\n",
        "  imgDir_path = 'images/'\r\n",
        "  img = Image.open(get_image_list(imgDir_path))\r\n",
        "\r\n",
        "  #임의의 thres 정의\r\n",
        "  box_thres1 = img.size[0] * 0.45\r\n",
        "  box_thres2 = img.size[0] * 0.55\r\n",
        "  topthres_1 = img.size[1] * 0.35\r\n",
        "  topthres_2 = img.size[1] * 0.55\r\n",
        "  bottomthres = img.size[1] * 0.9\r\n",
        "\r\n",
        "  \r\n",
        "\r\n",
        "  #텐서로 변환\r\n",
        "  trf = T.Compose([\r\n",
        "      T.ToTensor()\r\n",
        "  ])\r\n",
        "\r\n",
        "  input_img = trf(img)\r\n",
        "  out = model([input_img])[0]\r\n",
        "\r\n",
        "\r\n",
        "  for box, score, keypoints in zip(out['boxes'], out['scores'], out['keypoints']):\r\n",
        "    score = score.detach().numpy()\r\n",
        "\r\n",
        "    if score < THRESHOLD:\r\n",
        "      continue\r\n",
        "\r\n",
        "    box = box.detach().numpy()\r\n",
        "\r\n",
        "    #인물의 정가운데 지점 mid_box로 정의.\r\n",
        "    mid_box = 0.5 * (box[0] + box[2])\r\n",
        "\r\n",
        "    \r\n",
        "    #y축 기준의 알고리즘\r\n",
        "    keypoints = keypoints.detach().numpy()[:, :2]\r\n",
        "    temp_face = keypoints[0][1]\r\n",
        "    \r\n",
        "    \r\n",
        "    #keypoints[15],keypoint[16] 왼쪽 발목, 오른쪽 발목\r\n",
        "    temp_leftfoot = keypoints[15][1]\r\n",
        "    temp_rigthfoot = keypoints[16][1]\r\n",
        "      \r\n",
        "    if temp_face >topthres_1 and temp_face < topthres_2:\r\n",
        "      if temp_leftfoot > bottomthres and temp_rigthfoot > bottomthres:\r\n",
        "        sen = \"좋아요!! 지금입니다 !! 사진을 찍어 주세요\"\r\n",
        "      else:\r\n",
        "        sen = \"발을 하단에 맞춰 주세요\"\r\n",
        "    else:\r\n",
        "      sen = \"얼굴을 가운데로 맞춰주세요\"\r\n",
        "    if mid_box <box_thres1:\r\n",
        "      sen = \"카메라 각도를 왼쪽으로 조금 돌려주세요\"\r\n",
        "    if mid_box >box_thres2:\r\n",
        "      sen = \"카메라 각도를 오른쪽으로 조금 돌려주세요\"\r\n",
        "      \r\n",
        "    return sen\r\n",
        "\r\n"
      ],
      "execution_count": 5,
      "outputs": []
    },
    {
      "cell_type": "code",
      "metadata": {
        "id": "kL4TxTl3-IYU"
      },
      "source": [
        ""
      ],
      "execution_count": null,
      "outputs": []
    },
    {
      "cell_type": "code",
      "metadata": {
        "id": "D-BYrTHihUv9"
      },
      "source": [
        "out"
      ],
      "execution_count": null,
      "outputs": []
    },
    {
      "cell_type": "code",
      "metadata": {
        "id": "VOxVXibgq2wy"
      },
      "source": [
        ""
      ],
      "execution_count": null,
      "outputs": []
    }
  ]
}