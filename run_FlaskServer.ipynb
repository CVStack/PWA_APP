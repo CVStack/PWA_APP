{
  "nbformat": 4,
  "nbformat_minor": 0,
  "metadata": {
    "colab": {
      "name": "NIMA.ipynb",
      "provenance": [],
      "collapsed_sections": []
    },
    "kernelspec": {
      "display_name": "Python 3",
      "name": "python3"
    }
  },
  "cells": [
    {
      "cell_type": "code",
      "metadata": {
        "id": "C1PlhYR8A3dJ",
        "colab": {
          "base_uri": "https://localhost:8080/"
        },
        "outputId": "e5538ae5-9771-4a5b-a8d4-1d4674cfc8bd"
      },
      "source": [
        "#clone repository\r\n",
        "\r\n",
        "!git clone -b AI_2 https://github.com/SWhack-PhotoWithAI/PWA_APP.git\r\n",
        "%cd PWA_APP/\r\n",
        "\r\n",
        "!pip install flask-ngrok\r\n",
        "!pip install -r NIMA/requirement.txt"
      ],
      "execution_count": 1,
      "outputs": [
        {
          "output_type": "stream",
          "text": [
            "Cloning into 'PWA_APP'...\n",
            "remote: Enumerating objects: 537, done.\u001b[K\n",
            "remote: Counting objects: 100% (537/537), done.\u001b[K\n",
            "remote: Compressing objects: 100% (355/355), done.\u001b[K\n",
            "remote: Total 1148 (delta 213), reused 403 (delta 123), pack-reused 611\u001b[K\n",
            "Receiving objects: 100% (1148/1148), 63.11 MiB | 26.89 MiB/s, done.\n",
            "Resolving deltas: 100% (314/314), done.\n",
            "/content/PWA_APP\n",
            "Collecting flask-ngrok\n",
            "  Downloading https://files.pythonhosted.org/packages/af/6c/f54cb686ad1129e27d125d182f90f52b32f284e6c8df58c1bae54fa1adbc/flask_ngrok-0.0.25-py3-none-any.whl\n",
            "Requirement already satisfied: requests in /usr/local/lib/python3.6/dist-packages (from flask-ngrok) (2.23.0)\n",
            "Requirement already satisfied: Flask>=0.8 in /usr/local/lib/python3.6/dist-packages (from flask-ngrok) (1.1.2)\n",
            "Requirement already satisfied: certifi>=2017.4.17 in /usr/local/lib/python3.6/dist-packages (from requests->flask-ngrok) (2020.12.5)\n",
            "Requirement already satisfied: idna<3,>=2.5 in /usr/local/lib/python3.6/dist-packages (from requests->flask-ngrok) (2.10)\n",
            "Requirement already satisfied: chardet<4,>=3.0.2 in /usr/local/lib/python3.6/dist-packages (from requests->flask-ngrok) (3.0.4)\n",
            "Requirement already satisfied: urllib3!=1.25.0,!=1.25.1,<1.26,>=1.21.1 in /usr/local/lib/python3.6/dist-packages (from requests->flask-ngrok) (1.24.3)\n",
            "Requirement already satisfied: click>=5.1 in /usr/local/lib/python3.6/dist-packages (from Flask>=0.8->flask-ngrok) (7.1.2)\n",
            "Requirement already satisfied: itsdangerous>=0.24 in /usr/local/lib/python3.6/dist-packages (from Flask>=0.8->flask-ngrok) (1.1.0)\n",
            "Requirement already satisfied: Jinja2>=2.10.1 in /usr/local/lib/python3.6/dist-packages (from Flask>=0.8->flask-ngrok) (2.11.3)\n",
            "Requirement already satisfied: Werkzeug>=0.15 in /usr/local/lib/python3.6/dist-packages (from Flask>=0.8->flask-ngrok) (1.0.1)\n",
            "Requirement already satisfied: MarkupSafe>=0.23 in /usr/local/lib/python3.6/dist-packages (from Jinja2>=2.10.1->Flask>=0.8->flask-ngrok) (1.1.1)\n",
            "Installing collected packages: flask-ngrok\n",
            "Successfully installed flask-ngrok-0.0.25\n",
            "Collecting random_name\n",
            "  Downloading https://files.pythonhosted.org/packages/6d/95/d74dac4e47a0e50471b65a21301af3320116715891bf8736f48d02847bc6/random_name-0.1.1.tar.gz\n",
            "Requirement already satisfied: keras in /usr/local/lib/python3.6/dist-packages (from -r NIMA/requirement.txt (line 2)) (2.4.3)\n",
            "Requirement already satisfied: numpy in /usr/local/lib/python3.6/dist-packages (from -r NIMA/requirement.txt (line 3)) (1.19.5)\n",
            "Requirement already satisfied: pyyaml in /usr/local/lib/python3.6/dist-packages (from keras->-r NIMA/requirement.txt (line 2)) (3.13)\n",
            "Requirement already satisfied: scipy>=0.14 in /usr/local/lib/python3.6/dist-packages (from keras->-r NIMA/requirement.txt (line 2)) (1.4.1)\n",
            "Requirement already satisfied: h5py in /usr/local/lib/python3.6/dist-packages (from keras->-r NIMA/requirement.txt (line 2)) (2.10.0)\n",
            "Requirement already satisfied: six in /usr/local/lib/python3.6/dist-packages (from h5py->keras->-r NIMA/requirement.txt (line 2)) (1.15.0)\n",
            "Building wheels for collected packages: random-name\n",
            "  Building wheel for random-name (setup.py) ... \u001b[?25l\u001b[?25hdone\n",
            "  Created wheel for random-name: filename=random_name-0.1.1-cp36-none-any.whl size=5474 sha256=b6922e546bf291e4e8c295af98eafaff7b60e41d2adedfcc8bd16a06b2a6a31d\n",
            "  Stored in directory: /root/.cache/pip/wheels/17/fc/c5/abe2d2ee67eef0c0606d96ea02157c6c8079e32418da62b942\n",
            "Successfully built random-name\n",
            "Installing collected packages: random-name\n",
            "Successfully installed random-name-0.1.1\n"
          ],
          "name": "stdout"
        }
      ]
    },
    {
      "cell_type": "code",
      "metadata": {
        "colab": {
          "base_uri": "https://localhost:8080/"
        },
        "id": "6xz9r-qppgfK",
        "outputId": "05236a3b-6736-4ec9-cec4-ffa9f8a45d75"
      },
      "source": [
        "#run Flask WebServer\r\n",
        "\r\n",
        "#Vision Module\r\n",
        "from NIMA.evaluate_NIMA import evaluate\r\n",
        "from Human.face_based import main\r\n",
        "from Human.rt_eval import main as rt_main\r\n",
        "#Flask \r\n",
        "\r\n",
        "from flask_ngrok import run_with_ngrok\r\n",
        "# from flask import Flask\r\n",
        "from flask import Flask, render_template, request, jsonify\r\n",
        "from flask import send_file\r\n",
        "\r\n",
        "from werkzeug.utils import secure_filename\r\n",
        "\r\n",
        "import json\r\n",
        "import os\r\n",
        "import shutil\r\n",
        "import requests\r\n",
        "import glob\r\n",
        "\r\n",
        "def get_image_list(image_dir):\r\n",
        "    if image_dir is not None:\r\n",
        "        print(\"Loading images from directory : \", image_dir)\r\n",
        "        images = glob.glob(image_dir + '/*.png')\r\n",
        "        images += glob.glob(image_dir + '/*.jpg')\r\n",
        "        images += glob.glob(image_dir + '/*.jpeg')\r\n",
        "\r\n",
        "    else:\r\n",
        "        raise RuntimeError('Either -img_dir arguments must be passed as argument')\r\n",
        "\r\n",
        "    return images\r\n",
        "\r\n",
        "if 'images' not in os.listdir():\r\n",
        "  os.mkdir('images')\r\n",
        "\r\n",
        "else:\r\n",
        "  imgDir_path = 'images/'\r\n",
        "  img_list = get_image_list(imgDir_path)\r\n",
        "  print(img_list)\r\n",
        "  for img_path in img_list:\r\n",
        "    os.remove(img_path)\r\n",
        "\r\n",
        "app = Flask(__name__)\r\n",
        "run_with_ngrok(app)   #starts ngrok when the app is run\r\n",
        "\r\n",
        "@app.route('/predict_background', methods = ['POST'])\r\n",
        "def predict_background(): #image 파일은 post형식으로 넘어오기 때문에\r\n",
        "    #제일 score값이 좋은 image name을 return 하면 될듯.\r\n",
        "    img_dir = 'images/'\r\n",
        "    files = request.files.getlist('image') #이미지 여러개 받아오도록 해야함\r\n",
        "    order_dict = {}\r\n",
        "    index = 0\r\n",
        "    for file in files:\r\n",
        "        img_path = img_dir + secure_filename(file.filename)\r\n",
        "        order_dict[img_path] = index\r\n",
        "        index += 1 \r\n",
        "        file.save(img_path)\r\n",
        "    \r\n",
        "    result = evaluate()\r\n",
        "    result_index = order_dict[result['name']]\r\n",
        "\r\n",
        "    _dict = {}\r\n",
        "    _dict['index'] = result_index\r\n",
        "    return _dict\r\n",
        "\r\n",
        "@app.route('/predict_person', methods = ['POST'])\r\n",
        "def predict_person():\r\n",
        "    img_dir = 'images/'\r\n",
        "    files = request.files.getlist('image') #이미지 여러개 받아오도록 해야함\r\n",
        "    \r\n",
        "    order_dict = {}\r\n",
        "    index = 0\r\n",
        "    for file in files:\r\n",
        "        img_path = img_dir + secure_filename(file.filename)\r\n",
        "        order_dict[img_path] = index\r\n",
        "        index += 1\r\n",
        "        file.save(img_dir + secure_filename(file.filename))\r\n",
        "\r\n",
        "    result = main()\r\n",
        "    best_img = ''\r\n",
        "    max_score = -1\r\n",
        "    for img_name, score in result.items():\r\n",
        "        if score > max_score:\r\n",
        "            best_img = img_name\r\n",
        "\r\n",
        "    result_index = order_dict[best_img]\r\n",
        "\r\n",
        "    _dict = {}\r\n",
        "    _dict['index'] = result_index\r\n",
        "    return _dict\r\n",
        "\r\n",
        "@app.route('/predict_person_rt', methods = ['POST'])\r\n",
        "def predict_person_rt():\r\n",
        "    img_dir = 'images/'\r\n",
        "    files = request.files.getlist('image') #이미지 여러개 받아오도록 해야함\r\n",
        "\r\n",
        "    for file in files:\r\n",
        "        img_path = img_dir + secure_filename(file.filename)\r\n",
        "        file.save(img_dir + secure_filename(file.filename))\r\n",
        "\r\n",
        "    result = rt_main()\r\n",
        "\r\n",
        "    _dict = {}\r\n",
        "    _dict['sen'] = result\r\n",
        "    return _dict\r\n",
        "\r\n",
        "@app.route('/cartoonization', methods = ['POST'])\r\n",
        "def cartoonization():\r\n",
        "    img_paths = []\r\n",
        "    img_dir = 'images/'\r\n",
        "    file = request.files.get('source') #이미지 여러개 받아오도록 해야함\r\n",
        "    img_path = img_dir + secure_filename(file.filename)\r\n",
        "    print(img_path)\r\n",
        "    file.save(img_path)\r\n",
        "\r\n",
        "    #return single image\r\n",
        "    path = img_dir + 'test.jpg'\r\n",
        "    url = 'https://master-white-box-cartoonization-psi1104.endpoint.ainize.ai/predict'\r\n",
        "    _file = [\r\n",
        "              ('source', (img_path, open(img_path, 'rb'), 'image/jpg'))\r\n",
        "    ]\r\n",
        "    _data = {'file_type' : 'image' }\r\n",
        "    _response = requests.post(url ,data = _data, files=_file)\r\n",
        "    print(_response)\r\n",
        "    if _response.status_code == 200:\r\n",
        "        with open(path, 'wb') as f:\r\n",
        "            f.write(_response.content)\r\n",
        "            f.close()\r\n",
        "\r\n",
        "        return send_file(path, mimetype = 'image/jpeg')\r\n",
        "\r\n",
        "    _dict = {}\r\n",
        "    _dict['error'] = 'True'\r\n",
        "    return _dict\r\n",
        "    \r\n",
        "@app.route(\"/\")\r\n",
        "def home():\r\n",
        "    return \"<h1>Running Flask on Google Colab!</h1>\"\r\n",
        "  \r\n",
        "app.run()"
      ],
      "execution_count": null,
      "outputs": [
        {
          "output_type": "stream",
          "text": [
            " * Serving Flask app \"__main__\" (lazy loading)\n",
            " * Environment: production\n",
            "\u001b[31m   WARNING: This is a development server. Do not use it in a production deployment.\u001b[0m\n",
            "\u001b[2m   Use a production WSGI server instead.\u001b[0m\n",
            " * Debug mode: off\n"
          ],
          "name": "stdout"
        },
        {
          "output_type": "stream",
          "text": [
            " * Running on http://127.0.0.1:5000/ (Press CTRL+C to quit)\n"
          ],
          "name": "stderr"
        },
        {
          "output_type": "stream",
          "text": [
            " * Running on http://00deb3958743.ngrok.io\n",
            " * Traffic stats available on http://127.0.0.1:4040\n",
            "Loading images from directory :  images/\n",
            "img_path : images/person.jpg\n",
            "removed image : images/person.jpg\n",
            "img_score :  117.25374174118042\n",
            "img_path : images/person2.jpg\n"
          ],
          "name": "stdout"
        },
        {
          "output_type": "stream",
          "text": [
            "127.0.0.1 - - [05/Feb/2021 20:13:51] \"\u001b[37mPOST /predict_person HTTP/1.1\u001b[0m\" 200 -\n"
          ],
          "name": "stderr"
        },
        {
          "output_type": "stream",
          "text": [
            "removed image : images/person2.jpg\n",
            "img_score :  177.6340063214302\n",
            "Loading images from directory :  images/\n",
            "img_path : images/person.jpg\n"
          ],
          "name": "stdout"
        },
        {
          "output_type": "stream",
          "text": [
            "127.0.0.1 - - [05/Feb/2021 20:14:11] \"\u001b[37mPOST /predict_person HTTP/1.1\u001b[0m\" 200 -\n"
          ],
          "name": "stderr"
        },
        {
          "output_type": "stream",
          "text": [
            "removed image : images/person.jpg\n",
            "img_score :  117.25374174118042\n"
          ],
          "name": "stdout"
        }
      ]
    },
    {
      "cell_type": "code",
      "metadata": {
        "colab": {
          "base_uri": "https://localhost:8080/"
        },
        "id": "zAiPz9jhZVge",
        "outputId": "abbf0345-c760-4dd5-9a4b-4235771dc358"
      },
      "source": [
        ""
      ],
      "execution_count": null,
      "outputs": [
        {
          "output_type": "stream",
          "text": [
            "[AI_2 97f7f6b] modify post return oper\n",
            " 1 file changed, 64 insertions(+), 13 deletions(-)\n",
            " rename runFlask.ipynb => run_server.ipynb (67%)\n",
            "Counting objects: 3, done.\n",
            "Delta compression using up to 2 threads.\n",
            "Compressing objects: 100% (3/3), done.\n",
            "Writing objects: 100% (3/3), 2.08 KiB | 2.08 MiB/s, done.\n",
            "Total 3 (delta 1), reused 0 (delta 0)\n",
            "remote: Resolving deltas: 100% (1/1), completed with 1 local object.\u001b[K\n",
            "To https://github.com/SWhack-PhotoWithAI/PWA_APP.git\n",
            "   1cbcaad..97f7f6b  AI_2 -> AI_2\n"
          ],
          "name": "stdout"
        }
      ]
    },
    {
      "cell_type": "code",
      "metadata": {
        "id": "HBxNkhde1stl"
      },
      "source": [
        ""
      ],
      "execution_count": null,
      "outputs": []
    }
  ]
}